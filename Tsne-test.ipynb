# coding: utf-8

# In[3]:

import sklearn
from sklearn.feature_extraction.text import TfidfVectorizer
import numpy as np


# In[4]:

text = open("/Users/pyan/ping/LogDeepDive/sessionTheft/V3/dffpg.tester.txt").readlines()
# each line is a document, one string, space delimited fingerprint vectors 


# In[5]:

vectorizer = TfidfVectorizer()
vectors=vectorizer.fit_transform(text)


# In[6]:

text[1]


# In[23]:

y_label = [x.split(' ')[0] for x in text]


# In[ ]:

y_color = ['red' if x=='MacIntel' else 'blue' for x in y_label]
y_color


# In[9]:

print(vectors.toarray())
print(vectors.shape)
print(vectorizer.vocabulary_)


# In[7]:

from sklearn.manifold import TSNE


# In[8]:

from sklearn.decomposition import TruncatedSVD

X_reduced = TruncatedSVD(n_components=50, random_state=0).fit_transform(vectors)


# In[9]:

X_reduced


# In[10]:

X_embedded = TSNE(n_components=2, perplexity=40, verbose=2).fit_transform(X_reduced)


# In[11]:

X_embedded


# In[12]:

import matplotlib.pyplot as plt


# ## Fingerprint Embedding Experiment ##
# - input: two sets of fingerprints from one user
# - TFIDF vectorizer to encode raw fingerprints 
#     - results in 62 vectors in 151 dimensions 
#     - further reduced to 50 dimensions with TruncatedSVD
#     - further reduced to 2-D with TSNE for viz 
# - output: two clusters
# - interestingly, all win32 fingerprints (BLUE) cluster together, while macIntel fingerprints (RED) made up another cluster 

# In[31]:

plt.scatter(X_embedded[:, 0], X_embedded[:, 1], c=y_color, marker="x")


# ## TSNE ##
# - stochastic neighbor embedding 
# - To minimize ${KL(P\|Q)}$ for all data points, $P_{i\|j}$ and $Q_{i\|j}$ representing the distance, as a conditional probability, between point j to i in the original space and the projected space respectively
# - $$P_{i\|j} = \frac{exp(-(\|x_j-x_i\|)^2)}{\Sigma_{k \neq i}(exp(-(\|x_k-x_i\|)^2))}$$
# 

# 

# In[ ]:
